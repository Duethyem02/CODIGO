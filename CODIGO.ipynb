{
  "nbformat": 4,
  "nbformat_minor": 0,
  "metadata": {
    "colab": {
      "name": "CODIGO.ipynb",
      "provenance": [],
      "collapsed_sections": [],
      "toc_visible": true,
      "authorship_tag": "ABX9TyOJ4lqfUeS4wRTjT0pXtpjY",
      "include_colab_link": true
    },
    "kernelspec": {
      "name": "python3",
      "display_name": "Python 3"
    },
    "language_info": {
      "name": "python"
    }
  },
  "cells": [
    {
      "cell_type": "markdown",
      "metadata": {
        "id": "view-in-github",
        "colab_type": "text"
      },
      "source": [
        "<a href=\"https://colab.research.google.com/github/Duethyem02/CODIGO_Project/blob/main/CODIGO.ipynb\" target=\"_parent\"><img src=\"https://colab.research.google.com/assets/colab-badge.svg\" alt=\"Open In Colab\"/></a>"
      ]
    },
    {
      "cell_type": "markdown",
      "source": [
        "# Day 2"
      ],
      "metadata": {
        "id": "4tJB57vpkVGe"
      }
    },
    {
      "cell_type": "markdown",
      "source": [
        "\n",
        "Conditional statement"
      ],
      "metadata": {
        "id": "AWJoHR5KNDg7"
      }
    },
    {
      "cell_type": "code",
      "source": [
        "a=int(input())\n",
        "if a!=0:\n",
        "  if a%2==0:\n",
        "    print(\"Even\")\n",
        "  else:\n",
        "    print(\"Odd\")\n",
        "else:\n",
        "  print(\"Zero\")"
      ],
      "metadata": {
        "colab": {
          "base_uri": "https://localhost:8080/"
        },
        "id": "dSv1_oYDNKmD",
        "outputId": "e75ad490-7616-4c91-ffa5-8e5db0f60782"
      },
      "execution_count": null,
      "outputs": [
        {
          "output_type": "stream",
          "name": "stdout",
          "text": [
            "4\n",
            "Even\n"
          ]
        }
      ]
    },
    {
      "cell_type": "markdown",
      "source": [
        "# Day 3"
      ],
      "metadata": {
        "id": "wueBlvA9iM5B"
      }
    },
    {
      "cell_type": "markdown",
      "source": [
        "\n",
        "Iterators"
      ],
      "metadata": {
        "id": "VgXXTCFwiw-5"
      }
    },
    {
      "cell_type": "code",
      "source": [
        "lis=[\"python\",\"c\",\"c++\",\"java\"]\n",
        "iterr =iter(lis)\n",
        "print(next(iterr))\n",
        "print(next(iterr))\n",
        "print(next(iterr))"
      ],
      "metadata": {
        "colab": {
          "base_uri": "https://localhost:8080/"
        },
        "id": "OsEaBXtZi1n1",
        "outputId": "28fb2001-a007-40c9-d1db-ea1a7739b608"
      },
      "execution_count": null,
      "outputs": [
        {
          "output_type": "stream",
          "name": "stdout",
          "text": [
            "python\n",
            "c\n",
            "c++\n"
          ]
        }
      ]
    },
    {
      "cell_type": "code",
      "source": [
        "lis=\"python\"\n",
        "iterr =iter(lis)\n",
        "print(next(iterr))\n",
        "print(next(iterr))\n",
        "print(next(iterr))\n"
      ],
      "metadata": {
        "colab": {
          "base_uri": "https://localhost:8080/"
        },
        "id": "RcADjsmPjUCA",
        "outputId": "54c0cd69-4f94-4585-d59d-4de68f3063e1"
      },
      "execution_count": null,
      "outputs": [
        {
          "output_type": "stream",
          "name": "stdout",
          "text": [
            "p\n",
            "y\n",
            "t\n"
          ]
        }
      ]
    },
    {
      "cell_type": "markdown",
      "source": [
        "**Loops**\n"
      ],
      "metadata": {
        "id": "OUKigyljjSCX"
      }
    },
    {
      "cell_type": "markdown",
      "source": [
        "2 types:\n",
        "While lopp and\n",
        "for loop"
      ],
      "metadata": {
        "id": "rS-WeT96j-5f"
      }
    },
    {
      "cell_type": "code",
      "source": [
        "#while loop\n",
        "inter =0\n",
        "while(inter < 3):\n",
        "  print(\"Hello All\")\n",
        "  inter=inter+1"
      ],
      "metadata": {
        "colab": {
          "base_uri": "https://localhost:8080/"
        },
        "id": "77JcNDfWjpYM",
        "outputId": "6edf20be-4679-459e-ef63-fdb9b3227183"
      },
      "execution_count": null,
      "outputs": [
        {
          "output_type": "stream",
          "name": "stdout",
          "text": [
            "Hello All\n",
            "Hello All\n",
            "Hello All\n"
          ]
        }
      ]
    },
    {
      "cell_type": "code",
      "source": [
        "inter =0\n",
        "while(inter < 3):\n",
        "  print(\"Hello All\")\n",
        "  inter=inter+1\n",
        "else:\n",
        "  print(\"Nothing\")"
      ],
      "metadata": {
        "colab": {
          "base_uri": "https://localhost:8080/"
        },
        "id": "q4NFqek_kcYy",
        "outputId": "733200ac-8bcf-4fd6-93a5-9a46c6aafe3f"
      },
      "execution_count": null,
      "outputs": [
        {
          "output_type": "stream",
          "name": "stdout",
          "text": [
            "Hello All\n",
            "Hello All\n",
            "Hello All\n",
            "Nothing\n"
          ]
        }
      ]
    },
    {
      "cell_type": "code",
      "source": [
        "inter =0\n",
        "while(inter < 10):\n",
        "  if inter %2 ==0:\n",
        "   print(inter)\n",
        "  else:\n",
        "   print(inter)\n",
        "  inter+=1"
      ],
      "metadata": {
        "colab": {
          "base_uri": "https://localhost:8080/"
        },
        "id": "SuCVtxqaksAH",
        "outputId": "e97933c3-68b0-473c-e7e0-c77495ce192e"
      },
      "execution_count": null,
      "outputs": [
        {
          "output_type": "stream",
          "name": "stdout",
          "text": [
            "0\n",
            "1\n",
            "2\n",
            "3\n",
            "4\n",
            "5\n",
            "6\n",
            "7\n",
            "8\n",
            "9\n"
          ]
        }
      ]
    },
    {
      "cell_type": "code",
      "source": [
        "for i in range(0,10):\n",
        "  print(i)"
      ],
      "metadata": {
        "colab": {
          "base_uri": "https://localhost:8080/"
        },
        "id": "Aif7WSjdmJ80",
        "outputId": "24357ab4-70dc-4e7d-ea8d-79789f046e2d"
      },
      "execution_count": null,
      "outputs": [
        {
          "output_type": "stream",
          "name": "stdout",
          "text": [
            "0\n",
            "1\n",
            "2\n",
            "3\n",
            "4\n",
            "5\n",
            "6\n",
            "7\n",
            "8\n",
            "9\n"
          ]
        }
      ]
    },
    {
      "cell_type": "code",
      "source": [
        "for i in [\"python\",\"c\",'c++']:#[]-list,()-tuple\n",
        "  print(i)\n",
        "for i in \"python\":\n",
        "  print(i)"
      ],
      "metadata": {
        "colab": {
          "base_uri": "https://localhost:8080/"
        },
        "id": "20oTIN0Dm_HB",
        "outputId": "fde9f421-9bce-4d5a-cd3e-db4ad01f9508"
      },
      "execution_count": null,
      "outputs": [
        {
          "output_type": "stream",
          "name": "stdout",
          "text": [
            "python\n",
            "c\n",
            "c++\n",
            "p\n",
            "y\n",
            "t\n",
            "h\n",
            "o\n",
            "n\n"
          ]
        }
      ]
    },
    {
      "cell_type": "code",
      "source": [
        "lis=['python','c','c++','java']\n",
        "for i in range(len(lis)):#len-length of list ,here it is 4 (0 to 3)\n",
        "  print(i)\n",
        "  print(lis[i])"
      ],
      "metadata": {
        "colab": {
          "base_uri": "https://localhost:8080/"
        },
        "id": "oWSyBLu_ncQU",
        "outputId": "1bf505db-db4a-4115-f12a-931f26da0c8b"
      },
      "execution_count": null,
      "outputs": [
        {
          "output_type": "stream",
          "name": "stdout",
          "text": [
            "0\n",
            "python\n",
            "1\n",
            "c\n",
            "2\n",
            "c++\n",
            "3\n",
            "java\n"
          ]
        }
      ]
    },
    {
      "cell_type": "code",
      "source": [
        "for i in range(5):\n",
        "  print(i)"
      ],
      "metadata": {
        "colab": {
          "base_uri": "https://localhost:8080/"
        },
        "id": "GUaEad57oX2S",
        "outputId": "b7aef21a-38f4-4ef0-860b-59c32fa2504d"
      },
      "execution_count": null,
      "outputs": [
        {
          "output_type": "stream",
          "name": "stdout",
          "text": [
            "0\n",
            "1\n",
            "2\n",
            "3\n",
            "4\n"
          ]
        }
      ]
    },
    {
      "cell_type": "markdown",
      "source": [
        "**String Operations**"
      ],
      "metadata": {
        "id": "3FPKO0DypATe"
      }
    },
    {
      "cell_type": "code",
      "source": [
        "text =\"i am AI\"\n",
        "#to upper case\n",
        "print(text.upper())\n",
        "#to lower case\n",
        "print(text.lower())\n",
        "#to title format\n",
        "print(text.title())"
      ],
      "metadata": {
        "colab": {
          "base_uri": "https://localhost:8080/"
        },
        "id": "in_tlj8oowuu",
        "outputId": "11e01fd1-1505-430c-fa0b-e70f98e7a13e"
      },
      "execution_count": null,
      "outputs": [
        {
          "output_type": "stream",
          "name": "stdout",
          "text": [
            "I AM AI\n",
            "i am ai\n",
            "I Am Ai\n"
          ]
        }
      ]
    },
    {
      "cell_type": "code",
      "source": [
        "text=\"i am unknown and am known\"\n",
        "#give the number of strings\n",
        "print(text.count(\"n\")) \n",
        "print(text.count(\"am\")) "
      ],
      "metadata": {
        "colab": {
          "base_uri": "https://localhost:8080/"
        },
        "id": "OK9__8PepxtR",
        "outputId": "f2ea4692-af6c-4383-a7aa-f3805527852f"
      },
      "execution_count": null,
      "outputs": [
        {
          "output_type": "stream",
          "name": "stdout",
          "text": [
            "6\n",
            "2\n"
          ]
        }
      ]
    },
    {
      "cell_type": "code",
      "source": [
        "text=\"image.jpg\"\n",
        "#checking whether the string have the given value\n",
        "result=text.endswith(\".jpg\")\n",
        "print(result)"
      ],
      "metadata": {
        "colab": {
          "base_uri": "https://localhost:8080/"
        },
        "id": "QUqhpAP3qQlY",
        "outputId": "593fc07f-41dd-4437-82c9-95f8f336b5b1"
      },
      "execution_count": null,
      "outputs": [
        {
          "output_type": "stream",
          "name": "stdout",
          "text": [
            "True\n"
          ]
        }
      ]
    },
    {
      "cell_type": "code",
      "source": [
        "text=\"i am unknown and am known\"\n",
        "result=text.find(\"unknown\")\n",
        "res=text.find(\"undo\")\n",
        "print(result)\n",
        "print(res)"
      ],
      "metadata": {
        "colab": {
          "base_uri": "https://localhost:8080/"
        },
        "outputId": "8b102088-f282-4856-e7fc-64acb1aa125a",
        "id": "RByuYdaoqx-n"
      },
      "execution_count": null,
      "outputs": [
        {
          "output_type": "stream",
          "name": "stdout",
          "text": [
            "5\n",
            "-1\n"
          ]
        }
      ]
    },
    {
      "cell_type": "code",
      "source": [
        "text=\"i am ai\"\n",
        "print(text.islower())\n",
        "print(text.isupper())"
      ],
      "metadata": {
        "colab": {
          "base_uri": "https://localhost:8080/"
        },
        "id": "0Lzgnnx5rUYa",
        "outputId": "1eaec08b-383b-45ae-fa83-7fc2e332acdb"
      },
      "execution_count": null,
      "outputs": [
        {
          "output_type": "stream",
          "name": "stdout",
          "text": [
            "True\n",
            "False\n"
          ]
        }
      ]
    },
    {
      "cell_type": "code",
      "source": [
        "str1=['i','am','ai']\n",
        "print(\"\".join(str1))\n",
        "print(\" \".join(str1))\n",
        "print(\"_\".join(str1))"
      ],
      "metadata": {
        "colab": {
          "base_uri": "https://localhost:8080/"
        },
        "id": "at4Hj_M7rxtV",
        "outputId": "e085b0a3-4500-4662-ab45-ae25a05e548a"
      },
      "execution_count": null,
      "outputs": [
        {
          "output_type": "stream",
          "name": "stdout",
          "text": [
            "iamai\n",
            "i am ai\n",
            "i_am_ai\n"
          ]
        }
      ]
    },
    {
      "cell_type": "code",
      "source": [
        "str1=\"i am ai\"\n",
        "print(str1.replace(\"ai\",\"unknown\"))"
      ],
      "metadata": {
        "colab": {
          "base_uri": "https://localhost:8080/"
        },
        "id": "80_yHnQUsXgI",
        "outputId": "2c6fb631-d6d9-469f-a7c1-908b34405e54"
      },
      "execution_count": null,
      "outputs": [
        {
          "output_type": "stream",
          "name": "stdout",
          "text": [
            "i am unknown\n"
          ]
        }
      ]
    },
    {
      "cell_type": "markdown",
      "source": [
        "# Day 4"
      ],
      "metadata": {
        "id": "-ac7Ne4tiAij"
      }
    },
    {
      "cell_type": "markdown",
      "source": [
        "**Functions**"
      ],
      "metadata": {
        "id": "ovUZ-8x-iR7y"
      }
    },
    {
      "cell_type": "code",
      "source": [
        "def add(a,b):\n",
        "  c=a+b\n",
        "  return c"
      ],
      "metadata": {
        "id": "gy7nbx7TiuNp"
      },
      "execution_count": null,
      "outputs": []
    },
    {
      "cell_type": "code",
      "source": [
        "x=3\n",
        "y=4\n",
        "add(3,4)"
      ],
      "metadata": {
        "colab": {
          "base_uri": "https://localhost:8080/"
        },
        "id": "8N6yPJ9Ti2BK",
        "outputId": "d6fbce37-b222-450e-c0d3-ba4934ea606a"
      },
      "execution_count": null,
      "outputs": [
        {
          "output_type": "execute_result",
          "data": {
            "text/plain": [
              "7"
            ]
          },
          "metadata": {},
          "execution_count": 2
        }
      ]
    },
    {
      "cell_type": "markdown",
      "source": [
        "**Recursion**"
      ],
      "metadata": {
        "id": "kz72yl6ZiV6Q"
      }
    },
    {
      "cell_type": "code",
      "source": [
        "def fib(n):\n",
        "  if n<=1:\n",
        "    return n\n",
        "  else:\n",
        "    return(fib(n-1)+fib(n-2))\n",
        "\n",
        "limit=int(input(\"Enter a number:\"))\n",
        "if limit<=0:\n",
        "  print(\"Enter a value greater than or equal to 1\")\n",
        "else:\n",
        "  print(\"The series is as follows\")\n",
        "for vals in range(limit):\n",
        "  print(fib(vals))"
      ],
      "metadata": {
        "colab": {
          "base_uri": "https://localhost:8080/"
        },
        "id": "_YSJehE_ibBI",
        "outputId": "298fd39a-fb36-4086-b35c-26e8e8fc363f"
      },
      "execution_count": null,
      "outputs": [
        {
          "output_type": "stream",
          "name": "stdout",
          "text": [
            "Enter a number:9\n",
            "The series is as follows\n",
            "0\n",
            "1\n",
            "1\n",
            "2\n",
            "3\n",
            "5\n",
            "8\n",
            "13\n",
            "21\n"
          ]
        }
      ]
    },
    {
      "cell_type": "markdown",
      "source": [
        "# Day 5"
      ],
      "metadata": {
        "id": "8mFTEgKkkibd"
      }
    }
  ]
}